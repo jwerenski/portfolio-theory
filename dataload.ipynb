{
    "cells": [
        {
            "cell_type": "markdown",
            "source": [
                "## Data Loading in PostgreSQL Database\r\n",
                "In this notebook, I am going to load .csv files into a PostgreSQL database. The .csv files were created with the stock_data.ipynb file. Data files are stored in the 'data' folder."
            ],
            "metadata": {}
        },
        {
            "cell_type": "code",
            "execution_count": 31,
            "source": [
                "# Imported Libraries\r\n",
                "import pandas as pd\r\n",
                "import psycopg2\r\n",
                "import os\r\n",
                "import matplotlib\r\n",
                "from sqlalchemy import create_engine\r\n",
                "from tqdm import tqdm_notebook\r\n"
            ],
            "outputs": [],
            "metadata": {}
        },
        {
            "cell_type": "code",
            "execution_count": 32,
            "source": [
                "# Establishing database connection\r\n",
                "\r\n",
                "db_password = os.environ.get(\"POSTGRES_DB_PW\") # Environmental varaible set to Postgres Password\r\n",
                "engine = create_engine('postgresql://postgres:{}@localhost/stockdata'.format(db_password))"
            ],
            "outputs": [],
            "metadata": {}
        },
        {
            "cell_type": "code",
            "execution_count": 51,
            "source": [
                "# Function to create SQL Table from a dataframe\r\n",
                "# dataframe created using .csv files in the data folder\r\n",
                "# Function will take the ticker as parameter\r\n",
                "\r\n",
                "def create_stock_table(ticker):\r\n",
                "    # Import Data as dataframe\r\n",
                "    df = pd.read_csv('data/{}.csv'.format(ticker))\r\n",
                "    df = df.astype({'dividends':'float', 'splits':'float'})\r\n",
                "\r\n",
                "    # write dataframe to table in PostgreSQL\r\n",
                "    df.to_sql('daily_prices', engine, if_exists='replace', index=False)\r\n",
                "\r\n",
                "    query = \"\"\"ALTER TABLE daily_prices\r\n",
                "                ADD PRIMARY KEY (ticker,date);\"\"\"\r\n",
                "    engine.execute(query)\r\n",
                "\r\n",
                "    return \"Daily Prices Table Created\"\r\n",
                "\r\n",
                "# execute function on AMZN\r\n",
                "create_stock_table('amzn')"
            ],
            "outputs": [
                {
                    "output_type": "execute_result",
                    "data": {
                        "text/plain": [
                            "'Daily Prices Table Created'"
                        ]
                    },
                    "metadata": {},
                    "execution_count": 51
                }
            ],
            "metadata": {}
        },
        {
            "cell_type": "code",
            "execution_count": 52,
            "source": [
                "# function will build the rest of the sql table by inserting new rows into existing table\r\n",
                "\r\n",
                "def import_data(ticker):\r\n",
                "    path = 'data/{}.csv'.format(ticker)\r\n",
                "    df = pd.read_csv(path)\r\n",
                "\r\n",
                "    insert_init = \"\"\" INSERT INTO daily_prices\r\n",
                "                     (date, open, high, low, close, volume, dividends, splits, ticker)\r\n",
                "                     VALUES\r\n",
                "                    \"\"\"\r\n",
                "\r\n",
                "    vals = \",\".join([\"\"\"( '{}', '{}', '{}', '{}', '{}', '{}', '{}', '{}', '{}')\"\"\".format(\r\n",
                "        date,\r\n",
                "        row.open,\r\n",
                "        row.high,\r\n",
                "        row.low,\r\n",
                "        row.close,\r\n",
                "        row.volume,\r\n",
                "        row.dividends,\r\n",
                "        row.splits,\r\n",
                "        ticker,\r\n",
                "    ) for date, row in df.iterrows()])\r\n",
                "    \r\n",
                "    insert_end = \"\"\" ON CONFLICT (ticker, date) DO UPDATE\r\n",
                "                SET\r\n",
                "                open = EXCLUDED.open,\r\n",
                "                high = EXCLUDED.high,\r\n",
                "                low = EXCLUDED.low,\r\n",
                "                close = EXCLUDED.close,\r\n",
                "                volume = EXCLUDED.volume,\r\n",
                "                dividends = EXCLUDED.dividends,\r\n",
                "                splits = EXCLUDED.splits;\r\n",
                "                \"\"\"\r\n",
                "    \r\n",
                "    query = insert_init + vals + insert_end\r\n",
                "\r\n",
                "    engine.execute(query)\r\n",
                "\r\n",
                "def stockTickers():\r\n",
                "    tickers = [i[:-4] for i in os.listdir('data/')]\r\n",
                "\r\n",
                "    for ticker in tickers:\r\n",
                "        import_data(ticker)\r\n",
                "    \r\n",
                "    return \"Ticker Loading Complete\"\r\n",
                "\r\n",
                "stockTickers()\r\n"
            ],
            "outputs": [
                {
                    "output_type": "execute_result",
                    "data": {
                        "text/plain": [
                            "'Ticker Loading Complete'"
                        ]
                    },
                    "metadata": {},
                    "execution_count": 52
                }
            ],
            "metadata": {}
        }
    ],
    "metadata": {
        "orig_nbformat": 4,
        "language_info": {
            "name": "python"
        }
    },
    "nbformat": 4,
    "nbformat_minor": 2
}