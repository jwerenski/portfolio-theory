{
    "cells": [
        {
            "cell_type": "code",
            "execution_count": 1,
            "source": [
                "import yfinance as yf\r\n",
                "import pandas as pd\r\n",
                "import matplotlib.pyplot as plt\r\n",
                "import numpy as np\r\n",
                "\r\n",
                "# I am going to focus on the last five years\r\n",
                "\r\n",
                "def historicalMarketRate(stock):\r\n",
                "    \"\"\" Calculates the historical average annual return of a stock\r\n",
                "        uses the last 10 years as a reference\"\"\"\r\n",
                "\r\n",
                "    year_starts = ['2011-01-03','2012-01-03','2013-01-02','2014-01-02','2015-01-02',\r\n",
                "        '2016-01-04','2017-01-03','2018-01-02','2019-01-02','2020-01-02','2021-01-04']\r\n",
                "   \r\n",
                "    historical = stock.history(start = '2011-01-01', end = '2021-01-10')\r\n",
                "    \r\n",
                "    sum = 0\r\n",
                "    count = 0\r\n",
                "    for i in range(10):\r\n",
                "        year_return = (historical.loc[year_starts[i+1]]['Close'] - historical.loc[year_starts[i]]['Close']) / historical.loc[year_starts[i]]['Close']\r\n",
                "        sum = sum + year_return\r\n",
                "        count = count + 1\r\n",
                "    \r\n",
                "    return sum / count\r\n",
                "\r\n",
                "def covariance(stock1, stock2):\r\n",
                "    \"\"\"Finds the covariance of two stocks using their means in the period\"\"\"\r\n",
                "    stock1_close = stock1.history(period = '5y')['Close']\r\n",
                "    stock1_close_mean = stock1_close.mean()\r\n",
                "\r\n",
                "    stock2_close = stock2.history(period = '5y')['Close']\r\n",
                "    stock2_close_mean = stock2_close.mean()\r\n",
                "    sum = 0\r\n",
                "    count = 0\r\n",
                "\r\n",
                "    for i in range(len(stock1_close)):\r\n",
                "        sum = sum + (stock1_close[i] - stock1_close_mean)*(stock2_close[i] - stock2_close_mean)\r\n",
                "        count = count + 1\r\n",
                "\r\n",
                "    return sum / (count - 1)\r\n",
                "\r\n",
                "def variance(stock):\r\n",
                "    \"\"\"Finds the variance of a stock using its mean in the period\"\"\"\r\n",
                "    stock_close = stock.history(period = '5y')['Close']\r\n",
                "    stock_close_mean = stock_close.mean()\r\n",
                "    sum = 0\r\n",
                "    count = 0\r\n",
                "\r\n",
                "    for entry in stock_close:\r\n",
                "        sum = sum + (entry-stock_close_mean)**2\r\n",
                "        count = count + 1\r\n",
                "\r\n",
                "    return sum / (count - 1)\r\n",
                "\r\n",
                "def beta(stock):\r\n",
                "    sp500 = yf.Ticker(\"^GSPC\")\r\n",
                "    return covariance(stock, sp500) / variance(sp500)\r\n",
                "\r\n",
                "def riskfreerate(stock):\r\n",
                "    return stock.history(period = '10y')['Close'].mean()/100\r\n",
                "\r\n",
                "def expectedReturn(stock):\r\n",
                "    tbill = yf.Ticker(\"^TNX\")\r\n",
                "    sp500 = yf.Ticker(\"^GSPC\")\r\n",
                "    rf = riskfreerate(tbill)\r\n",
                "    rm = historicalMarketRate(sp500)\r\n",
                "    stock_beta = beta(stock)\r\n",
                "    return rf + stock_beta*(rm - rf)\r\n",
                "\r\n",
                "def riskReturnPortfolio(stock1, stock2):\r\n",
                "    stock1_ER = expectedReturn(stock1)\r\n",
                "    stock2_ER = expectedReturn(stock2)\r\n",
                "    stock1_var = variance(stock1)\r\n",
                "    stock2_var = variance(stock2)\r\n",
                "    stock_cov = covariance(stock1, stock2)\r\n",
                "\r\n",
                "    stock1_weight = []\r\n",
                "    stock2_weight = []\r\n",
                "    portfolio_return = []\r\n",
                "    portfolio_risk = []\r\n",
                "\r\n",
                "    for i in np.arange(0,1.01,0.01):\r\n",
                "        stock1_weight.append(i)\r\n",
                "        stock2_weight.append(1-i)\r\n",
                "        er = stock1_ER*i + stock2_ER*(1-i)\r\n",
                "        risk = (i**2) * stock1_var + ((1-i)**2) * stock2_var + 2 * i * (1-i) * stock_cov \r\n",
                "        portfolio_return.append(er)\r\n",
                "        portfolio_risk.append(risk)\r\n",
                "\r\n",
                "    data_dict = {'stock1_weight':stock1_weight, 'stock2_weight':stock2_weight, \r\n",
                "        'portfolio_return':portfolio_return, 'portfolio_risk':portfolio_risk}\r\n",
                "\r\n",
                "    return pd.DataFrame(data_dict)   \r\n",
                "\r\n",
                "\r\n",
                "sp500 = yf.Ticker(\"^GSPC\")\r\n",
                "amzn = yf.Ticker(\"AMZN\")\r\n",
                "nflx = yf.Ticker(\"NFLX\")\r\n",
                "tbill = yf.Ticker(\"^TNX\")\r\n",
                "\r\n",
                "#portfolio = riskReturnPortfolio(nflx, amzn)\r\n",
                "#print(portfolio)\r\n",
                "\r\n",
                "print(variance(nflx))\r\n",
                "print(variance(amzn))\r\n",
                "print(beta(nflx))"
            ],
            "outputs": [
                {
                    "output_type": "stream",
                    "name": "stdout",
                    "text": [
                        "18324.553601137617\n",
                        "696105.371058987\n",
                        "0.22479872889037553\n"
                    ]
                }
            ],
            "metadata": {}
        },
        {
            "cell_type": "code",
            "execution_count": 2,
            "source": [
                "portfolio = riskReturnPortfolio(nflx, amzn)\r\n"
            ],
            "outputs": [],
            "metadata": {}
        },
        {
            "cell_type": "code",
            "execution_count": 3,
            "source": [
                "plt.plot(portfolio['portfolio_risk'], portfolio['portfolio_return'])"
            ],
            "outputs": [
                {
                    "output_type": "execute_result",
                    "data": {
                        "text/plain": [
                            "[<matplotlib.lines.Line2D at 0x16c72dacdc0>]"
                        ]
                    },
                    "metadata": {},
                    "execution_count": 3
                },
                {
                    "output_type": "display_data",
                    "data": {
                        "text/plain": [
                            "<Figure size 432x288 with 1 Axes>"
                        ],
                        "image/png": "[encoded data removed]"
                    },
                    "metadata": {
                        "needs_background": "light"
                    }
                }
            ],
            "metadata": {}
        }
    ],
    "metadata": {
        "orig_nbformat": 4,
        "language_info": {
            "name": "python"
        }
    },
    "nbformat": 4,
    "nbformat_minor": 2
}